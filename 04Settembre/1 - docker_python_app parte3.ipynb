{
 "cells": [
  {
   "cell_type": "markdown",
   "id": "b94d4a3c",
   "metadata": {},
   "source": [
    "## DockerFile Mysql"
   ]
  },
  {
   "cell_type": "code",
   "execution_count": 1,
   "id": "357949cf",
   "metadata": {},
   "outputs": [
    {
     "name": "stdout",
     "output_type": "stream",
     "text": [
      "✅ Dockerfile creato.\n"
     ]
    }
   ],
   "source": [
    "dockerfile = '''# Usa l'immagine ufficiale di MySQL\n",
    "FROM mysql:latest\n",
    "\n",
    "# Imposta variabili d'ambiente (minime necessarie)\n",
    "ENV MYSQL_ROOT_PASSWORD=rootpassword\n",
    "ENV MYSQL_DATABASE=mydb\n",
    "ENV MYSQL_USER=myuser\n",
    "ENV MYSQL_PASSWORD=mypassword\n",
    "\n",
    "# Espone la porta\n",
    "EXPOSE 3306\n",
    "'''\n",
    "\n",
    "with open(\"Dockerfile\", \"w\") as f:\n",
    "    f.write(dockerfile)\n",
    "\n",
    "print(\"✅ Dockerfile creato.\")\n"
   ]
  },
  {
   "cell_type": "markdown",
   "id": "07cd9773",
   "metadata": {},
   "source": [
    "## Build & Run\n",
    "\n",
    "Da terminale, nella stessa cartella dove hai Dockerfile:"
   ]
  },
  {
   "cell_type": "markdown",
   "id": "bfab11c3",
   "metadata": {},
   "source": [
    "```bash \n",
    "# Build dell'immagine\n",
    "docker build -t my-mysql .\n",
    "\n",
    "# Esecuzione\n",
    "docker run -d --name mysql-container -p 3306:3306 my-mysql```"
   ]
  },
  {
   "cell_type": "markdown",
   "id": "13503ec4",
   "metadata": {},
   "source": [
    "## Libreria per i DB Mysql"
   ]
  },
  {
   "cell_type": "code",
   "execution_count": null,
   "id": "0d5301b8",
   "metadata": {},
   "outputs": [],
   "source": [
    "!pip install mysql-connector-python"
   ]
  },
  {
   "cell_type": "markdown",
   "id": "244f3bf8",
   "metadata": {},
   "source": [
    "## Connessione al DB"
   ]
  },
  {
   "cell_type": "code",
   "execution_count": 4,
   "id": "b0579571",
   "metadata": {},
   "outputs": [
    {
     "name": "stdout",
     "output_type": "stream",
     "text": [
      "Funzionante\n"
     ]
    }
   ],
   "source": [
    "import mysql.connector\n",
    "\n",
    "mydb = mysql.connector.connect(\n",
    "  host=\"localhost\",\n",
    "  user=\"myuser\",\n",
    "  password=\"mypassword\",\n",
    "  port=3306\n",
    ")\n",
    "print(\"Funzionante\")"
   ]
  },
  {
   "cell_type": "code",
   "execution_count": 7,
   "id": "ec9ba57f",
   "metadata": {},
   "outputs": [
    {
     "name": "stdout",
     "output_type": "stream",
     "text": [
      "('information_schema',)\n",
      "('mydb',)\n",
      "('performance_schema',)\n"
     ]
    }
   ],
   "source": [
    "import mysql.connector\n",
    "\n",
    "mydb = mysql.connector.connect(\n",
    "  host=\"localhost\",\n",
    "  user=\"myuser\",\n",
    "  password=\"mypassword\",\n",
    "  port=3306\n",
    ")\n",
    "\n",
    "mycursor = mydb.cursor()\n",
    "query = \"SHOW DATABASES\"\n",
    "mycursor.execute(query)\n",
    "\n",
    "for x in mycursor:\n",
    "  print(x)"
   ]
  },
  {
   "cell_type": "code",
   "execution_count": 9,
   "id": "fa6bd8ee",
   "metadata": {},
   "outputs": [],
   "source": [
    "import mysql.connector\n",
    "\n",
    "mydb = mysql.connector.connect(\n",
    "  host=\"localhost\",\n",
    "  user=\"myuser\",\n",
    "  password=\"mypassword\",\n",
    "  port=3306,\n",
    "  database=\"mydb\"\n",
    ")\n",
    "\n",
    "mycursor = mydb.cursor()\n",
    "\n",
    "query= \"create table utenti(id int auto_increment primary key, nome varchar(50), via varchar(50))\"\n",
    "\n",
    "mycursor.execute(query)"
   ]
  },
  {
   "cell_type": "code",
   "execution_count": 11,
   "id": "be30a890",
   "metadata": {},
   "outputs": [
    {
     "name": "stdout",
     "output_type": "stream",
     "text": [
      "1 righe inserite\n"
     ]
    }
   ],
   "source": [
    "query =\"insert into utenti(nome,via) values(%s,%s)\"\n",
    "val= (\"tommaso\",\"via roma\")\n",
    "\n",
    "mycursor.execute(query,val)\n",
    "\n",
    "mydb.commit()\n",
    "\n",
    "print(mycursor.rowcount, \"righe inserite\")"
   ]
  },
  {
   "cell_type": "code",
   "execution_count": 12,
   "id": "90f9595a",
   "metadata": {},
   "outputs": [
    {
     "name": "stdout",
     "output_type": "stream",
     "text": [
      "2 righe inserite\n"
     ]
    }
   ],
   "source": [
    "query =\"insert into utenti(nome,via) values(%s,%s)\"\n",
    "val= [(\"giovanni\",\"via milano\"),\n",
    "      (\"alfredo\",\"via napoli\")]\n",
    "\n",
    "mycursor.executemany(query,val)\n",
    "\n",
    "mydb.commit()\n",
    "\n",
    "print(mycursor.rowcount, \"righe inserite\")"
   ]
  },
  {
   "cell_type": "code",
   "execution_count": 14,
   "id": "b258af07",
   "metadata": {},
   "outputs": [
    {
     "name": "stdout",
     "output_type": "stream",
     "text": [
      "(1, 'tommaso', 'via roma')\n",
      "(2, 'giovanni', 'via milano')\n",
      "(3, 'alfredo', 'via napoli')\n"
     ]
    }
   ],
   "source": [
    "query=\"select * from utenti\"\n",
    "\n",
    "mycursor.execute(query)\n",
    "\n",
    "result= mycursor.fetchall()\n",
    "\n",
    "for risultato in result:\n",
    "    print(risultato)"
   ]
  }
 ],
 "metadata": {
  "kernelspec": {
   "display_name": "base",
   "language": "python",
   "name": "python3"
  },
  "language_info": {
   "codemirror_mode": {
    "name": "ipython",
    "version": 3
   },
   "file_extension": ".py",
   "mimetype": "text/x-python",
   "name": "python",
   "nbconvert_exporter": "python",
   "pygments_lexer": "ipython3",
   "version": "3.13.5"
  }
 },
 "nbformat": 4,
 "nbformat_minor": 5
}
