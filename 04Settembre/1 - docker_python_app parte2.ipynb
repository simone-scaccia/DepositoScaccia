{
 "cells": [
  {
   "cell_type": "markdown",
   "id": "758071a9",
   "metadata": {},
   "source": [
    "## App interattiva"
   ]
  },
  {
   "cell_type": "code",
   "execution_count": 12,
   "id": "ee3a546e",
   "metadata": {},
   "outputs": [
    {
     "name": "stdout",
     "output_type": "stream",
     "text": [
      "Writing app2.py\n"
     ]
    }
   ],
   "source": [
    "%%writefile app2.py\n",
    "\n",
    "def main():\n",
    "    print(\"👋 Benvenuto nel mio script interattivo!\")\n",
    "    while True:\n",
    "        comando = input(\"Scrivi qualcosa (o 'exit' per uscire): \").strip().lower()\n",
    "        if comando == \"exit\":\n",
    "            print(\"👋 Uscita dal programma. Ciao!\")\n",
    "            break\n",
    "        elif comando == \"ciao\":\n",
    "            print(\"Ciao anche a te! 😊\")\n",
    "        else:\n",
    "            print(f\"Hai scritto: {comando}\")\n",
    "\n",
    "if __name__ == \"__main__\":\n",
    "    main()\n"
   ]
  },
  {
   "cell_type": "markdown",
   "id": "7e07675a",
   "metadata": {},
   "source": [
    "Questo programma rimane in loop, riceve input da terminale e risponde."
   ]
  },
  {
   "cell_type": "markdown",
   "id": "0c6fdc29",
   "metadata": {},
   "source": [
    "## Dockerfile"
   ]
  },
  {
   "cell_type": "code",
   "execution_count": 13,
   "id": "0b7630a3",
   "metadata": {},
   "outputs": [
    {
     "name": "stdout",
     "output_type": "stream",
     "text": [
      "✅ Dockerfile creato.\n"
     ]
    }
   ],
   "source": [
    "dockerfile = '''# Usa un'immagine ufficiale di Python come base\n",
    "FROM python:latest\n",
    "\n",
    "# Imposta directory di lavoro\n",
    "WORKDIR /app\n",
    "\n",
    "# Copia lo script dentro al container\n",
    "COPY app2.py .\n",
    "\n",
    "# Imposta il comando di avvio\n",
    "CMD [\"python\", \"app2.py\"]'''\n",
    "\n",
    "with open(\"Dockerfile\", \"w\") as f:\n",
    "    f.write(dockerfile)\n",
    "\n",
    "print(\"✅ Dockerfile creato.\")\n"
   ]
  },
  {
   "cell_type": "markdown",
   "id": "272c40da",
   "metadata": {},
   "source": [
    "## Build & Run\n",
    "\n",
    "Da terminale, nella stessa cartella dove hai app2.py e Dockerfile:"
   ]
  },
  {
   "cell_type": "markdown",
   "id": "e2d35403",
   "metadata": {},
   "source": [
    "```bash \n",
    "# Build dell'immagine (la chiamo myapp)\n",
    "docker build -t myapp .\n",
    "\n",
    "# Esegui il container in modalità interattiva\n",
    "docker run -it myapp```\n"
   ]
  },
  {
   "cell_type": "markdown",
   "id": "53ee0514",
   "metadata": {},
   "source": [
    "Con -it avrai un terminale interattivo per scrivere i comandi."
   ]
  },
  {
   "cell_type": "markdown",
   "id": "b94d4a3c",
   "metadata": {},
   "source": [
    "## DockerFile Mysql"
   ]
  },
  {
   "cell_type": "code",
   "execution_count": 14,
   "id": "357949cf",
   "metadata": {},
   "outputs": [
    {
     "name": "stdout",
     "output_type": "stream",
     "text": [
      "✅ Dockerfile creato.\n"
     ]
    }
   ],
   "source": [
    "dockerfile = '''# Usa l'immagine ufficiale di MySQL\n",
    "FROM mysql:latest\n",
    "\n",
    "# Imposta variabili d'ambiente (minime necessarie)\n",
    "ENV MYSQL_ROOT_PASSWORD=rootpassword\n",
    "ENV MYSQL_DATABASE=mydb\n",
    "ENV MYSQL_USER=myuser\n",
    "ENV MYSQL_PASSWORD=mypassword\n",
    "\n",
    "# Espone la porta\n",
    "EXPOSE 3306\n",
    "'''\n",
    "\n",
    "with open(\"Dockerfile\", \"w\") as f:\n",
    "    f.write(dockerfile)\n",
    "\n",
    "print(\"✅ Dockerfile creato.\")\n"
   ]
  },
  {
   "cell_type": "markdown",
   "id": "07cd9773",
   "metadata": {},
   "source": [
    "## Build & Run\n",
    "\n",
    "Da terminale, nella stessa cartella dove hai Dockerfile:"
   ]
  },
  {
   "cell_type": "markdown",
   "id": "bfab11c3",
   "metadata": {},
   "source": [
    "```bash \n",
    "# Build dell'immagine\n",
    "docker build -t my-mysql .\n",
    "\n",
    "# Esecuzione\n",
    "docker run -d --name mysql-container -p 3306:3306 my-mysql```"
   ]
  },
  {
   "cell_type": "markdown",
   "id": "13503ec4",
   "metadata": {},
   "source": [
    "## Libreria per i DB Mysql"
   ]
  },
  {
   "cell_type": "code",
   "execution_count": null,
   "id": "0d5301b8",
   "metadata": {},
   "outputs": [],
   "source": [
    "!pip install mysql-connector-python"
   ]
  },
  {
   "cell_type": "markdown",
   "id": "244f3bf8",
   "metadata": {},
   "source": [
    "## Connessione al DB"
   ]
  },
  {
   "cell_type": "code",
   "execution_count": 15,
   "id": "b0579571",
   "metadata": {},
   "outputs": [
    {
     "name": "stdout",
     "output_type": "stream",
     "text": [
      "Funzionante\n"
     ]
    }
   ],
   "source": [
    "import mysql.connector\n",
    "\n",
    "mydb = mysql.connector.connect(\n",
    "  host=\"localhost\",\n",
    "  user=\"myuser\",\n",
    "  password=\"mypassword\",\n",
    "  port=3306\n",
    ")\n",
    "print(\"Funzionante\")"
   ]
  },
  {
   "cell_type": "code",
   "execution_count": 16,
   "id": "ec9ba57f",
   "metadata": {},
   "outputs": [
    {
     "name": "stdout",
     "output_type": "stream",
     "text": [
      "('information_schema',)\n",
      "('mydb',)\n",
      "('performance_schema',)\n"
     ]
    }
   ],
   "source": [
    "import mysql.connector\n",
    "\n",
    "mydb = mysql.connector.connect(\n",
    "  host=\"localhost\",\n",
    "  user=\"myuser\",\n",
    "  password=\"mypassword\",\n",
    "  port=3306\n",
    ")\n",
    "\n",
    "mycursor = mydb.cursor()\n",
    "\n",
    "mycursor.execute(\"SHOW DATABASES\")\n",
    "\n",
    "for x in mycursor:\n",
    "  print(x)"
   ]
  }
 ],
 "metadata": {
  "kernelspec": {
   "display_name": "base",
   "language": "python",
   "name": "python3"
  },
  "language_info": {
   "codemirror_mode": {
    "name": "ipython",
    "version": 3
   },
   "file_extension": ".py",
   "mimetype": "text/x-python",
   "name": "python",
   "nbconvert_exporter": "python",
   "pygments_lexer": "ipython3",
   "version": "3.13.5"
  }
 },
 "nbformat": 4,
 "nbformat_minor": 5
}
