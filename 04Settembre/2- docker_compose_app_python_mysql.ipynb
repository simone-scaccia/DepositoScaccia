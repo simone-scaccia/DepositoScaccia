{
 "cells": [
  {
   "cell_type": "markdown",
   "id": "d56693b4",
   "metadata": {},
   "source": [
    "# 🐳 Docker Compose: App Python con MySQL\n",
    "\n",
    "Guida completa passo-passo con spiegazione dettagliata del file `docker-compose.yml`."
   ]
  },
  {
   "cell_type": "markdown",
   "id": "d0af92c2",
   "metadata": {},
   "source": [
    "## 🎯 Obiettivo\n",
    "\n",
    "Costruire un'app Python che:\n",
    "\n",
    "- si connette a un database MySQL in un container separato,\n",
    "\n",
    "- è gestita da Docker Compose.\n"
   ]
  },
  {
   "cell_type": "markdown",
   "id": "24b8f82e",
   "metadata": {},
   "source": [
    "## 📁 Struttura del progetto\n",
    "\n",
    "```\n",
    "docker-compose-python-mysql/\n",
    "│\n",
    "├── app2.py               # Codice Python\n",
    "├── requirements.txt      # Dipendenze pip\n",
    "├── Dockerfile            # Dockerfile per Python app\n",
    "└── docker-compose.yml    # File principale Docker Compose\n",
    "```"
   ]
  },
  {
   "cell_type": "markdown",
   "id": "5cacd599",
   "metadata": {},
   "source": [
    "# Configurazione nel contesto dell'Ambiente virtuale\n",
    "\n",
    "## Creazione di un ambiente virtuale\n",
    "Per isolare le dipendenze del progetto, puoi creare un ambiente virtuale utilizzando il seguente comando:\n",
    "```bash\n",
    "python -m venv env\n",
    "```\n",
    "\n",
    "## Attivazione dell'ambiente virtuale\n",
    "Una volta creato l'ambiente virtuale, attivalo con il comando appropriato per il tuo sistema operativo:\n",
    "- **Linux/Mac**: \n",
    "    ```bash\n",
    "    source env/bin/activate\n",
    "    ```\n",
    "- **Windows**: \n",
    "    ```bash\n",
    "    env\\Scripts\\activate\n",
    "    ```\n",
    "\n",
    "## Installazione delle librerie\n",
    "Dopo aver attivato l'ambiente virtuale, puoi installare le librerie che servono al suo interno utilizzando a esempio:\n",
    "```bash\n",
    "pip install mysql-connector-python\n",
    "```\n",
    "\n",
    "### Controllo della versione di Python\n",
    "```bash\n",
    "python --version\n",
    "```\n",
    "\n",
    "### Controllo delle librerie installate\n",
    "Per vedere tutte le librerie installate e le loro versioni, usa:\n",
    "```bash\n",
    "pip list\n",
    "```"
   ]
  },
  {
   "cell_type": "code",
   "execution_count": null,
   "id": "6c16e033",
   "metadata": {},
   "outputs": [],
   "source": [
    "#Se vuoi partire da un repository git\n",
    "!git clone [url]"
   ]
  },
  {
   "cell_type": "markdown",
   "id": "7e32e378",
   "metadata": {},
   "source": [
    "## 1. ✍️ app2.py – Codice Python"
   ]
  },
  {
   "cell_type": "code",
   "execution_count": 1,
   "id": "32a96486",
   "metadata": {},
   "outputs": [
    {
     "name": "stdout",
     "output_type": "stream",
     "text": [
      "Writing app2.py\n"
     ]
    }
   ],
   "source": [
    "%%writefile app2.py\n",
    "\n",
    "import mysql.connector\n",
    "import time\n",
    "\n",
    "def connect():\n",
    "    for _ in range(10):\n",
    "        try:\n",
    "            conn = mysql.connector.connect(\n",
    "                host=\"mysql\",\n",
    "                user=\"user\",\n",
    "                password=\"password\",\n",
    "                database=\"testdb\"\n",
    "            )\n",
    "            print(\"✅ Connessione a MySQL riuscita!\")\n",
    "            cursor = conn.cursor()\n",
    "            cursor.execute(\"CREATE TABLE IF NOT EXISTS saluti (id INT AUTO_INCREMENT PRIMARY KEY, messaggio VARCHAR(255))\")\n",
    "            cursor.execute(\"INSERT INTO saluti (messaggio) VALUES ('Ciao da Docker Compose con MySQL')\")\n",
    "            conn.commit()\n",
    "            cursor.execute(\"SELECT * FROM saluti\")\n",
    "            for row in cursor.fetchall():\n",
    "                print(row)\n",
    "            conn.close()\n",
    "            break\n",
    "        except mysql.connector.Error as err:\n",
    "            print(\"⏳ Tentativo di connessione fallito. Ritento...\")\n",
    "            time.sleep(2)\n",
    "\n",
    "if __name__ == \"__main__\":\n",
    "    connect()\n"
   ]
  },
  {
   "cell_type": "markdown",
   "id": "a7a9a85f",
   "metadata": {},
   "source": [
    "## 2. 📦 Creare il file `requirements.txt`"
   ]
  },
  {
   "cell_type": "code",
   "execution_count": null,
   "id": "891234e1",
   "metadata": {},
   "outputs": [],
   "source": [
    "!pip freeze > requirements.txt"
   ]
  },
  {
   "cell_type": "markdown",
   "id": "9692a054",
   "metadata": {},
   "source": [
    "## 3. 🛠️ Creare il Dockerfile"
   ]
  },
  {
   "cell_type": "code",
   "execution_count": 4,
   "id": "a7c66fb7",
   "metadata": {},
   "outputs": [
    {
     "name": "stdout",
     "output_type": "stream",
     "text": [
      "✅ Dockerfile creato.\n"
     ]
    }
   ],
   "source": [
    "dockerfile = '''\n",
    "FROM python:latest\n",
    "\n",
    "WORKDIR /app\n",
    "\n",
    "COPY requirements.txt .\n",
    "RUN pip install --no-cache-dir -r requirements.txt\n",
    "\n",
    "COPY app2.py .\n",
    "\n",
    "CMD [\"python\", \"app2.py\"]\n",
    "'''\n",
    "\n",
    "with open(\"Dockerfile\", \"w\") as f:\n",
    "    f.write(dockerfile)\n",
    "\n",
    "print(\"✅ Dockerfile creato.\")\n"
   ]
  },
  {
   "cell_type": "markdown",
   "id": "e1397eda",
   "metadata": {},
   "source": [
    "## 📌 Cos’è `docker-compose.yml`?\n",
    "\n",
    "È un file YAML (indentazione molto importante!) che:\n",
    "- definisce **servizi** (container),\n",
    "- configura **volumi**, **reti**, **variabili d’ambiente**, **dipendenze**,\n",
    "- permette di avviare tutto con un solo comando:  \n",
    "  ```bash\n",
    "  docker-compose up --build\n",
    "  ```"
   ]
  },
  {
   "cell_type": "markdown",
   "id": "7435b913",
   "metadata": {},
   "source": [
    "## 🧱 File `docker-compose.yml` spiegato riga per riga\n"
   ]
  },
  {
   "cell_type": "code",
   "execution_count": 5,
   "id": "2f198629",
   "metadata": {},
   "outputs": [
    {
     "name": "stdout",
     "output_type": "stream",
     "text": [
      "✅ Dockerfile creato.\n"
     ]
    }
   ],
   "source": [
    "dockerfile = '''\n",
    "services:\n",
    "    app:\n",
    "      build: .\n",
    "      depends_on:\n",
    "        - mysql\n",
    "      networks:\n",
    "        - rete_app\n",
    "    mysql:\n",
    "      image: mysql:latest\n",
    "      restart: always\n",
    "      environment:\n",
    "        MYSQL_ROOT_PASSWORD: rootpass\n",
    "        MYSQL_DATABASE: testdb\n",
    "        MYSQL_USER: user\n",
    "        MYSQL_PASSWORD: password\n",
    "      ports:\n",
    "        - \"3306:3306\"\n",
    "      networks:\n",
    "        - rete_app\n",
    "networks:\n",
    "  rete_app:\n",
    "    driver: bridge\n",
    "'''\n",
    "\n",
    "with open(\"docker-compose.yml\", \"w\") as f:\n",
    "    f.write(dockerfile)\n",
    "\n",
    "print(\"✅ Dockerfile creato.\")"
   ]
  },
  {
   "cell_type": "markdown",
   "id": "537f9023",
   "metadata": {},
   "source": [
    "### 🔧 Definizione dei servizi\n",
    "\n",
    "```yaml\n",
    "services:\n",
    "```\n",
    "\n",
    "Ogni container è un **servizio**. Definiamo qui sia `app` (Python) sia `mysql`."
   ]
  },
  {
   "cell_type": "markdown",
   "id": "94485117",
   "metadata": {},
   "source": [
    "### 🐍 Servizio `app` (contenitore Python)\n",
    "\n",
    "```yaml\n",
    "  app:\n",
    "    build: .\n",
    "    depends_on:\n",
    "      - mysql\n",
    "    networks:\n",
    "      - rete_app\n",
    "```\n",
    "\n",
    "- `build: .`: costruisce l'immagine a partire dal `Dockerfile`.\n",
    "- `depends_on`: MySQL viene avviato prima.\n",
    "- `networks`: l'app è connessa alla rete `rete_app` per comunicare con MySQL.\n"
   ]
  },
  {
   "cell_type": "markdown",
   "id": "2e062183",
   "metadata": {},
   "source": [
    "### 🐬 Servizio `mysql`\n",
    "\n",
    "```yaml\n",
    "  mysql:\n",
    "    image: mysql:latest\n",
    "    restart: always\n",
    "    environment:\n",
    "      MYSQL_ROOT_PASSWORD: rootpass\n",
    "      MYSQL_DATABASE: testdb\n",
    "      MYSQL_USER: user\n",
    "      MYSQL_PASSWORD: password\n",
    "    ports:\n",
    "      - \"3306:3306\"\n",
    "    networks:\n",
    "      - rete_app\n",
    "```\n",
    "\n",
    "- `image`: usa l'immagine ufficiale MySQL 8.\n",
    "- `restart`: si riavvia automaticamente in caso di errore.\n",
    "- `environment`: imposta root, utente, password e database iniziali.\n",
    "- `ports`: mappa la porta locale 3306 alla porta interna.\n",
    "- `networks`: lo collega alla stessa rete del servizio `app`.\n"
   ]
  },
  {
   "cell_type": "markdown",
   "id": "4720671d",
   "metadata": {},
   "source": [
    "### 🌐 Rete\n",
    "\n",
    "```yaml\n",
    "networks:\n",
    "  rete_app:\n",
    "    driver: bridge\n",
    "```\n",
    "\n",
    "- Crea una rete isolata tra `app` e `mysql`.\n"
   ]
  },
  {
   "cell_type": "markdown",
   "id": "40db3f01",
   "metadata": {},
   "source": [
    "## 🖥️ Comandi Docker Compose\n",
    "\n",
    "### 1. 🔨 Costruire e avviare tutto\n",
    "\n",
    "```bash\n",
    "docker-compose up --build\n",
    "```\n",
    "\n",
    "- Costruisce l’immagine Python (dal `Dockerfile`)\n",
    "- Avvia MySQL e l'app\n",
    "- Mostra i log live\n"
   ]
  },
  {
   "cell_type": "markdown",
   "id": "d1f079bf",
   "metadata": {},
   "source": [
    "### 2. 🛑 Fermare e rimuovere tutto\n",
    "\n",
    "```bash\n",
    "docker-compose down\n",
    "```\n",
    "\n",
    "- Ferma i container\n",
    "- Rimuove i volumi temporanei\n",
    "- Libera le porte"
   ]
  },
  {
   "cell_type": "markdown",
   "id": "d7bf85f7",
   "metadata": {},
   "source": [
    "### 3. 📂 Eseguire in background (opzionale)\n",
    "\n",
    "```bash\n",
    "docker-compose up -d\n",
    "```\n",
    "\n",
    "- Avvia i container in **detached mode** (background)."
   ]
  },
  {
   "cell_type": "markdown",
   "id": "9fa9591f",
   "metadata": {},
   "source": [
    "[documentazione](https://docs.docker.com/compose/gettingstarted/)"
   ]
  }
 ],
 "metadata": {
  "kernelspec": {
   "display_name": "base",
   "language": "python",
   "name": "python3"
  },
  "language_info": {
   "codemirror_mode": {
    "name": "ipython",
    "version": 3
   },
   "file_extension": ".py",
   "mimetype": "text/x-python",
   "name": "python",
   "nbconvert_exporter": "python",
   "pygments_lexer": "ipython3",
   "version": "3.13.5"
  }
 },
 "nbformat": 4,
 "nbformat_minor": 5
}
