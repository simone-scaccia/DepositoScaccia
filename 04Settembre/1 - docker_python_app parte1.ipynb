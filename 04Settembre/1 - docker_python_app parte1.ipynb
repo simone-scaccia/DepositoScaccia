{
 "cells": [
  {
   "cell_type": "markdown",
   "id": "a282f89b",
   "metadata": {},
   "source": [
    "# 🐳 Containerizzare un'app Python con Docker\n",
    "\n",
    "Questo notebook ti guiderà **passo per passo** nella containerizzazione di una semplice applicazione Python usando Docker.\n",
    "\n",
    "### Obiettivi:\n",
    "- Creare ambiente\n",
    "- Creare un'app Python\n",
    "- Definire le dipendenze in `requirements.txt`\n",
    "- Scrivere un `Dockerfile`\n",
    "- Costruire un'immagine Docker\n",
    "- Eseguire un container\n",
    "- Pulire le risorse Docker\n"
   ]
  },
  {
   "cell_type": "markdown",
   "id": "21d625ee",
   "metadata": {},
   "source": [
    "# Configurazione nel contesto dell'Ambiente virtuale\n",
    "\n",
    "## Creazione di un ambiente virtuale\n",
    "Per isolare le dipendenze del progetto, puoi creare un ambiente virtuale utilizzando il seguente comando:\n",
    "```bash\n",
    "python -m venv env\n",
    "```\n",
    "\n",
    "## Attivazione dell'ambiente virtuale\n",
    "Una volta creato l'ambiente virtuale, attivalo con il comando appropriato per il tuo sistema operativo:\n",
    "- **Linux/Mac**: \n",
    "    ```bash\n",
    "    source env/bin/activate\n",
    "    ```\n",
    "- **Windows**: \n",
    "    ```bash\n",
    "    env\\Scripts\\activate\n",
    "    ```\n",
    "\n",
    "## Installazione delle librerie\n",
    "Dopo aver attivato l'ambiente virtuale, puoi installare le librerie che servono al suo interno utilizzando a esempio:\n",
    "```bash\n",
    "pip install requests\n",
    "```\n",
    "\n",
    "### Controllo della versione di Python\n",
    "```bash\n",
    "python --version\n",
    "```\n",
    "\n",
    "### Controllo delle librerie installate\n",
    "Per vedere tutte le librerie installate e le loro versioni, usa:\n",
    "```bash\n",
    "pip list\n",
    "```"
   ]
  },
  {
   "cell_type": "code",
   "execution_count": null,
   "id": "3b6e9364",
   "metadata": {},
   "outputs": [],
   "source": [
    "import requests\n",
    "\n",
    "def main():\n",
    "    url = \"https://api.open-meteo.com/v1/forecast?latitude=52.52&longitude=13.41&hourly=temperature_2m\"\n",
    "    response = requests.get(url)\n",
    "    print(\"✅ Richiesta effettuata con successo!\")\n",
    "    print(\"Status Code:\", response.status_code)\n",
    "    risposta = response.json()\n",
    "    print(\"Risposta JSON:\", risposta)\n",
    "    print(\"Alle ore:\", risposta[\"hourly\"][\"time\"][0])\n",
    "    print(\"Temperatura:\", risposta[\"hourly\"][\"temperature_2m\"][0])\n",
    "\n",
    "\n",
    "main()"
   ]
  },
  {
   "cell_type": "code",
   "execution_count": null,
   "id": "768c4fd6",
   "metadata": {},
   "outputs": [],
   "source": [
    "#Se vuoi partire da un repository git\n",
    "!git clone [url]"
   ]
  },
  {
   "cell_type": "markdown",
   "id": "94f46888",
   "metadata": {},
   "source": [
    "## 1. 📁 Creare una semplice applicazione Python"
   ]
  },
  {
   "cell_type": "code",
   "execution_count": null,
   "id": "2740970f",
   "metadata": {},
   "outputs": [],
   "source": [
    "%%writefile app.py\n",
    "\n",
    "import requests\n",
    "\n",
    "def main():\n",
    "    url = \"https://api.open-meteo.com/v1/forecast?latitude=52.52&longitude=13.41&hourly=temperature_2m\"\n",
    "    response = requests.get(url)\n",
    "    print(\"✅ Richiesta effettuata con successo!\")\n",
    "    print(\"Status Code:\", response.status_code)\n",
    "    risposta = response.json()\n",
    "    print(\"Risposta JSON:\", risposta)\n",
    "    print(\"Alle ore:\", risposta[\"hourly\"][\"time\"][0])\n",
    "    print(\"Temperatura:\", risposta[\"hourly\"][\"temperature_2m\"][0])\n",
    "\n",
    "\n",
    "main()"
   ]
  },
  {
   "cell_type": "markdown",
   "id": "4b84d9b9",
   "metadata": {},
   "source": [
    "## 2. 📦 Creare il file `requirements.txt`"
   ]
  },
  {
   "cell_type": "code",
   "execution_count": null,
   "id": "e599080b",
   "metadata": {},
   "outputs": [],
   "source": [
    "!pip freeze > requirements.txt"
   ]
  },
  {
   "cell_type": "markdown",
   "id": "b2279fdd",
   "metadata": {},
   "source": [
    "## 3. 🛠️ Creare il Dockerfile"
   ]
  },
  {
   "cell_type": "code",
   "execution_count": null,
   "id": "0d4b97c7",
   "metadata": {},
   "outputs": [],
   "source": [
    "dockerfile = '''\n",
    "# Usa un'immagine ufficiale di Python come base\n",
    "FROM python:latest\n",
    "\n",
    "# Crea e imposta la directory di lavoro nel container\n",
    "WORKDIR /app\n",
    "\n",
    "# Copia i file requirements.txt\n",
    "COPY requirements.txt .\n",
    "\n",
    "# Installa le dipendenze\n",
    "RUN pip install --no-cache-dir -r requirements.txt\n",
    "\n",
    "# Copia il file dell'app nel container\n",
    "COPY app.py .\n",
    "\n",
    "# Comando che Docker esegue quando il container parte\n",
    "CMD [\"python\", \"app.py\"]\n",
    "'''\n",
    "\n",
    "with open(\"Dockerfile\", \"w\") as f:\n",
    "    f.write(dockerfile)\n",
    "\n",
    "print(\"✅ Dockerfile creato.\")\n"
   ]
  },
  {
   "cell_type": "markdown",
   "id": "1d40da95",
   "metadata": {},
   "source": [
    "[documentazione docker](https://docs.docker.com/build/concepts/dockerfile/)"
   ]
  },
  {
   "cell_type": "markdown",
   "id": "b7a542f0",
   "metadata": {},
   "source": [
    "### 📌 Spiegazione riga per riga:\n",
    "\n",
    "#### **FROM python** ultima versione immagine con Python\n",
    "\n",
    "#### **WORKDIR /app**: directory di lavoro interna al container\n",
    "\n",
    "#### **COPY**: copia file dal host al container\n",
    "\n",
    "#### **RUN pip install**: installa i pacchetti specificati\n",
    "\n",
    "#### **CMD**: definisce il comando da eseguire nel container"
   ]
  },
  {
   "cell_type": "markdown",
   "id": "23f12f0d",
   "metadata": {},
   "source": [
    "## 4. 🔨 Costruire l'immagine Docker"
   ]
  },
  {
   "cell_type": "code",
   "execution_count": null,
   "id": "fe3b68e1",
   "metadata": {},
   "outputs": [],
   "source": [
    "# ⚠️ Questo comando va eseguito in un terminale\n",
    "# # Assicurati di essere nella directory che contiene i file\n",
    "!docker build -t my-python-app .\n"
   ]
  },
  {
   "cell_type": "markdown",
   "id": "4ebfa36f",
   "metadata": {},
   "source": [
    "### 📌 Spiegazione:\n",
    "\n",
    "#### **docker build**: crea un'immagine Docker\n",
    "\n",
    "#### **-t my-python-app**: assegna un nome/tag all'immagine\n",
    "\n",
    "#### **.**: indica che il Dockerfile si trova nella directory corrente\n",
    "\n"
   ]
  },
  {
   "cell_type": "markdown",
   "id": "da1241d4",
   "metadata": {},
   "source": [
    "## 5. ▶️ Eseguire il container"
   ]
  },
  {
   "cell_type": "code",
   "execution_count": null,
   "id": "629f29c8",
   "metadata": {},
   "outputs": [],
   "source": [
    "!docker run --rm my-python-app"
   ]
  },
  {
   "cell_type": "code",
   "execution_count": null,
   "id": "d1739fb3",
   "metadata": {},
   "outputs": [],
   "source": [
    "!docker run my-python-app"
   ]
  },
  {
   "cell_type": "markdown",
   "id": "67a39db2",
   "metadata": {},
   "source": [
    "### 📌 Spiegazione:\n",
    "\n",
    "#### **docker run**: avvia un nuovo container\n",
    "\n",
    "#### **--rm**: rimuove il container una volta terminato\n",
    "\n",
    "#### **my-python-app**: nome dell’immagine da eseguire"
   ]
  },
  {
   "cell_type": "markdown",
   "id": "42b7b1cb",
   "metadata": {},
   "source": [
    "## 6. 🧹 OPZIONALE - Pulizia delle risorse"
   ]
  },
  {
   "cell_type": "code",
   "execution_count": null,
   "id": "706b47d7",
   "metadata": {},
   "outputs": [],
   "source": [
    "# Se vuoi liberare spazio, rimuovi l'immagine\n",
    "!docker rmi my-python-app"
   ]
  },
  {
   "cell_type": "markdown",
   "id": "3f95d850",
   "metadata": {},
   "source": [
    "# ✅ Riepilogo \n",
    "\n",
    "## 1. Creare i file (app.py, requirements.txt, Dockerfile)\n",
    "\n",
    "| File              | Descrizione                                 |\n",
    "|------------------|---------------------------------------------|\n",
    "| `app.py`          | App Python principale                       |\n",
    "| `requirements.txt`| Elenco dei pacchetti richiesti (`requests`) |\n",
    "| `Dockerfile`      | Istruzioni per costruire l'immagine Docker  |\n",
    "\n",
    "## 📦 Comandi Docker riassuntivi\n",
    "\n",
    "```bash\n",
    "# 2. Costruire l'immagine\n",
    "docker build -t my-python-app .\n",
    "\n",
    "# 3. Avviare il container (rimuovendo una volta completato)\n",
    "docker run --rm my-python-app\n",
    "\n",
    "# 3.1 Avviare il container\n",
    "docker run my-python-app\n",
    "\n",
    "# (Opzionale) Esegui il container in modalità interattiva\n",
    "docker run -it my-python-app\n",
    "\n",
    "# 4. (Opzionale) Rimuovere l'immagine\n",
    "docker rmi my-python-app\n",
    "```\n"
   ]
  }
 ],
 "metadata": {
  "kernelspec": {
   "display_name": "base",
   "language": "python",
   "name": "python3"
  },
  "language_info": {
   "codemirror_mode": {
    "name": "ipython",
    "version": 3
   },
   "file_extension": ".py",
   "mimetype": "text/x-python",
   "name": "python",
   "nbconvert_exporter": "python",
   "pygments_lexer": "ipython3",
   "version": "3.13.5"
  }
 },
 "nbformat": 4,
 "nbformat_minor": 5
}
